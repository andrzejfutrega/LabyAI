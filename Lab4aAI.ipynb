{
  "nbformat": 4,
  "nbformat_minor": 0,
  "metadata": {
    "colab": {
      "provenance": []
    },
    "kernelspec": {
      "name": "python3",
      "display_name": "Python 3"
    },
    "language_info": {
      "name": "python"
    }
  },
  "cells": [
    {
      "cell_type": "code",
      "execution_count": 3,
      "metadata": {
        "id": "vjqxsaXES82G"
      },
      "outputs": [],
      "source": [
        "import numpy as np\n",
        "from sklearn import preprocessing\n",
        "raw_csv_data = np.loadtxt('/content/sample_data/Audiobooks_data.csv', delimiter=',')\n",
        "unscaled_inputs_all = raw_csv_data[:,1:-1]\n",
        "targets_all = raw_csv_data[:,-1]"
      ]
    },
    {
      "cell_type": "code",
      "source": [
        "shuffled_indices = np.arange(unscaled_inputs_all.shape[0])\n",
        "np.random.shuffle(shuffled_indices)\n",
        "unscaled_inputs_all = unscaled_inputs_all[shuffled_indices]\n",
        "targets_all = targets_all[shuffled_indices]"
      ],
      "metadata": {
        "id": "8bsWRqCPTxPu"
      },
      "execution_count": 4,
      "outputs": []
    },
    {
      "cell_type": "code",
      "source": [
        "num_one_targets = int(np.sum(targets_all))\n",
        "zero_targets_counter = 0\n",
        "indices_to_remove = []\n",
        "\n",
        "for i in range(targets_all.shape[0]):\n",
        "  if targets_all[i] == 0:\n",
        "    zero_targets_counter += 1\n",
        "    if zero_targets_counter > num_one_targets:\n",
        "      indices_to_remove.append(i)\n",
        "\n",
        "unscaled_inputs_equal_priors = np.delete(unscaled_inputs_all, indices_to_remove, axis=0)\n",
        "targets_equal_priors = np.delete(targets_all, indices_to_remove, axis=0)\n"
      ],
      "metadata": {
        "id": "GG8XSYgRUBO-"
      },
      "execution_count": 5,
      "outputs": []
    },
    {
      "cell_type": "code",
      "source": [
        "scaled_inputs = preprocessing.scale(unscaled_inputs_equal_priors)"
      ],
      "metadata": {
        "id": "4CW5ZuxYUrh5"
      },
      "execution_count": 6,
      "outputs": []
    },
    {
      "cell_type": "code",
      "source": [
        "shuffled_indices = np.arange(scaled_inputs.shape[0])\n",
        "np.random.shuffle(shuffled_indices)\n",
        "\n",
        "shuffled_inputs = scaled_inputs[shuffled_indices]\n",
        "shuffled_targets = targets_equal_priors[shuffled_indices]"
      ],
      "metadata": {
        "id": "XVwxnE9_U1KI"
      },
      "execution_count": 7,
      "outputs": []
    },
    {
      "cell_type": "code",
      "source": [
        "samples_count = shuffled_inputs.shape[0]\n",
        "\n",
        "train_samples_count = int(0.8 * samples_count)\n",
        "validation_samples_count = int(0.1 * samples_count)\n",
        "\n",
        "test_samples_count = samples_count - train_samples_count - validation_samples_count\n",
        "\n",
        "train_inputs = shuffled_inputs[:train_samples_count]\n",
        "train_targets = shuffled_targets[:train_samples_count]\n",
        "\n",
        "validation_inputs = shuffled_inputs[train_samples_count:train_samples_count + validation_samples_count]\n",
        "validation_targets = shuffled_targets[train_samples_count:train_samples_count + validation_samples_count]\n",
        "\n",
        "test_inputs = shuffled_inputs[train_samples_count + validation_samples_count:]\n",
        "test_targets = shuffled_targets[train_samples_count + validation_samples_count:]"
      ],
      "metadata": {
        "id": "mVqnQn8xVQ8p"
      },
      "execution_count": 8,
      "outputs": []
    },
    {
      "cell_type": "code",
      "source": [
        "print(np.sum(train_targets), train_samples_count, np.sum(train_targets)/train_samples_count)\n",
        "print(np.sum(validation_targets), validation_samples_count, np.sum(validation_targets)/validation_samples_count)\n",
        "print(np.sum(test_targets), test_samples_count, np.sum(test_targets)/test_samples_count)"
      ],
      "metadata": {
        "colab": {
          "base_uri": "https://localhost:8080/"
        },
        "id": "jt6051grWTe6",
        "outputId": "43fbf3b4-7a8b-4014-e049-93895ee4c5f7"
      },
      "execution_count": 9,
      "outputs": [
        {
          "output_type": "stream",
          "name": "stdout",
          "text": [
            "1789.0 3579 0.49986029617211514\n",
            "219.0 447 0.4899328859060403\n",
            "229.0 448 0.5111607142857143\n"
          ]
        }
      ]
    },
    {
      "cell_type": "code",
      "source": [
        "np.savez('Audiobooks_data_train', inputs=train_inputs, targets=train_targets)\n",
        "np.savez('Audiobooks_data_validation', inputs=validation_inputs, targets=validation_targets)\n",
        "np.savez('Audiobooks_data_test', inputs=test_inputs, targets=test_targets)"
      ],
      "metadata": {
        "id": "0zbR8QIGW3RX"
      },
      "execution_count": 11,
      "outputs": []
    }
  ]
}